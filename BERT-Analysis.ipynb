{
 "cells": [
  {
   "cell_type": "code",
   "execution_count": 5,
   "metadata": {},
   "outputs": [],
   "source": [
    "import re\n",
    "import math\n",
    "import time\n",
    "import pandas as pd\n",
    "from nltk.tokenize import word_tokenize\n",
    "import torch\n",
    "import torch.nn as nn\n",
    "from torch.utils.data import DataLoader, TensorDataset\n",
    "from transformers import BertModel, BertTokenizer\n",
    "\n",
    "from torchinfo import summary\n",
    "from torchviz import make_dot\n",
    "import matplotlib.pyplot as plt\n",
    "import matplotlib.patches as patches\n",
    "\n",
    "# Define the model\n",
    "class bert_for_binary_classification(nn.Module):\n",
    "    def __init__(self):\n",
    "        super(bert_for_binary_classification, self).__init__()\n",
    "        self.bert = BertModel.from_pretrained('bert-base-multilingual-uncased')\n",
    "        self.dropout = nn.Dropout(self.bert.config.hidden_dropout_prob)\n",
    "        self.classifier = nn.Linear(self.bert.config.hidden_size, 1)\n",
    "        self.sigmoid = nn.Sigmoid()\n",
    "\n",
    "    def forward(self, input_ids, attention_mask, token_type_ids):\n",
    "        outputs = self.bert(input_ids=input_ids, attention_mask=attention_mask, token_type_ids=token_type_ids)\n",
    "        pooled_output = outputs.pooler_output\n",
    "        pooled_output = self.dropout(pooled_output)\n",
    "        logits = self.classifier(pooled_output)\n",
    "        probabilities = self.sigmoid(logits)\n",
    "        return probabilities.squeeze()\n",
    "    \n",
    "def load_bert(dir):\n",
    "    model= bert_for_binary_classification()\n",
    "\n",
    "    model.load_state_dict(torch.load(dir))\n",
    "\n",
    "    return model\n",
    "\n",
    "def create_bert_dataloader(texts, labels, batch_size, shuffle=True):\n",
    "    # Fetch a bert tokenizer, since the default one will suffice\n",
    "    tokenizer = BertTokenizer.from_pretrained(\"bert-base-multilingual-uncased\")\n",
    "\n",
    "    # Tokenize texts to pytorch tensors\n",
    "    inputs = tokenizer(texts, max_length=300, padding='max_length', truncation=True, return_tensors=\"pt\")\n",
    "    \n",
    "    # Convert labels to PyTorch tensor\n",
    "    labels_tensor = torch.tensor(labels, dtype=torch.float32)\n",
    "    \n",
    "    # Create DataLoader for the dataset\n",
    "    dataset = TensorDataset(inputs[\"input_ids\"], inputs[\"token_type_ids\"], inputs[\"attention_mask\"], labels_tensor)\n",
    "    dataloader = DataLoader(dataset, batch_size=batch_size, shuffle=shuffle)\n",
    "    \n",
    "    return dataloader\n",
    "\n",
    "def find_device(verbose=False):\n",
    "    # Check if a CUDA-enabled GPU is available\n",
    "    if torch.cuda.is_available():\n",
    "        device = torch.device(\"cuda\")\n",
    "        if verbose: print(\"### Cuda Found :: Using GPU ###\")\n",
    "    \n",
    "    else:\n",
    "        device = torch.device(\"cpu\")\n",
    "        if verbose: print(\"### Cuda not found :: Using CPU ###\")\n",
    "\n",
    "    return device\n",
    "\n",
    "# Cleans and tokenizes a text for bert\n",
    "def prepare_text(text):\n",
    "    # Convert text to lowercase\n",
    "    text = text.lower()\n",
    "    \n",
    "    # Remove user mentions\n",
    "    text = re.sub(r'@\\w+', '', text)\n",
    "\n",
    "    # Remove external links\n",
    "    text = re.sub(r'([hH][tT]{2}[pP][sS]?:\\/\\/)?[\\w~-]+(\\.[\\w~-]+)+(\\/[\\w~-]*)*', '', text)\n",
    "\n",
    "    # Tokenize text\n",
    "    tokens = word_tokenize(text)\n",
    "\n",
    "    # Remove punctuation and digits\n",
    "    tokens = [re.sub(r'[\\W\\d_]+', '', token) for token in tokens]\n",
    "\n",
    "    # Remove short/empty tokens\n",
    "    tokens = [token for token in tokens if len(token) > 1]\n",
    "\n",
    "    # Remove stop words\n",
    "    #... do ID-IFD? to find the stop words of this dataset\n",
    "\n",
    "    text = ' '.join(tokens)\n",
    "\n",
    "    return tokenize_text(text)\n",
    "\n",
    "def tokenize_text(text):\n",
    "    # Fetch the BERT tokenizer\n",
    "    tokenizer = BertTokenizer.from_pretrained(\"bert-base-multilingual-uncased\")\n",
    "\n",
    "    # Tokenize texts to pytorch tensors\n",
    "    inputs = tokenizer(text, max_length=300, padding='max_length', truncation=True, return_tensors=\"pt\")\n",
    "    \n",
    "    # Create return tokenized text in parts\n",
    "    return inputs[\"input_ids\"], inputs[\"token_type_ids\"], inputs[\"attention_mask\"]\n",
    "\n",
    "def predict_sentiment(text, model, device):\n",
    "    # Prepare the text for the model\n",
    "    input_ids, type_ids, mask = prepare_text(text)\n",
    "    \n",
    "    input_ids = input_ids.to(device)\n",
    "    type_ids = type_ids.to(device)\n",
    "    mask = mask.to(device)\n",
    "\n",
    "    model.eval()\n",
    "\n",
    "    with torch.no_grad():\n",
    "        output = model(input_ids, mask, type_ids)\n",
    "\n",
    "        prediction = (output > 0.5).float().item()\n",
    "\n",
    "    # Return the prediction and its confidence\n",
    "    if prediction == 1:\n",
    "        return 'POSITIVE', output\n",
    "    else:\n",
    "        return 'NEGATIVE', (1.0 - output)\n",
    "    \n",
    "def bert_benchmark(model, dataloader, device, verbose=False):\n",
    "    criterion = nn.BCELoss()\n",
    "    \n",
    "    total_loss = 0.0\n",
    "    total_correct = 0\n",
    "    total_samples = 0\n",
    "    total_duration = 0\n",
    "\n",
    "    model.eval()\n",
    "    with torch.no_grad():\n",
    "        for batch_index, batch in enumerate(dataloader):\n",
    "            # Note the time before processing this batch\n",
    "            prev_time = time.time()\n",
    "            \n",
    "            # Fetch data from batch and move to the target device\n",
    "            input_ids, token_type_ids, attention_mask, targets = batch\n",
    "            input_ids = input_ids.to(device)\n",
    "            token_type_ids = token_type_ids.to(device)\n",
    "            attention_mask = attention_mask.to(device)\n",
    "            targets = targets.to(device)\n",
    "\n",
    "            # Run the model\n",
    "            outputs = model(input_ids, attention_mask, token_type_ids)\n",
    "\n",
    "            # Find the loss and accumulate\n",
    "            loss = criterion(outputs, targets)\n",
    "            total_loss += loss.item() * targets.size(0)\n",
    "            \n",
    "            # Find the accuracy and accumulate\n",
    "            predictions = (outputs > 0.5).float()\n",
    "            correct = (predictions == targets).sum().item()\n",
    "            total_correct += correct\n",
    "\n",
    "            total_samples += targets.size(0)\n",
    "\n",
    "            #Find how long the epoch took\n",
    "            duration = time.time() - prev_time\n",
    "            total_duration += duration\n",
    "\n",
    "            # Estimate remaining runtime\n",
    "            avg_runtime = total_duration / (batch_index + 1)\n",
    "            remaining_batches = len(dataloader) - (batch_index + 1)\n",
    "            remaining_time = avg_runtime * remaining_batches\n",
    "\n",
    "            # Print the progress, loss, and accuracy\n",
    "            if verbose: print(f'Batch {batch_index+1}/{len(dataloader)} {progress_bar(batch_index+1, len(dataloader), 50)}'\n",
    "                              f' - Loss: {total_loss / total_samples:.4f}'\n",
    "                              f' - Accuracy: {total_correct / total_samples * 100:.4f}%'\n",
    "                              f' - Remaining Time: {int(remaining_time // 60)}:{int(remaining_time % 60):02d}'\n",
    "                              , end='\\r')\n",
    "    print()\n",
    "\n",
    "    return (total_loss/total_samples), (total_correct/total_samples)\n",
    "\n",
    "def progress_bar(numerator, denominator, length):\n",
    "    progress_bar_fill = math.floor((numerator / denominator) * length)\n",
    "\n",
    "    return '[' + ('=' * progress_bar_fill) + (' ' * (length - progress_bar_fill)) + ']'"
   ]
  },
  {
   "cell_type": "code",
   "execution_count": 2,
   "metadata": {},
   "outputs": [
    {
     "name": "stderr",
     "output_type": "stream",
     "text": [
      "Some weights of the model checkpoint at bert-base-multilingual-uncased were not used when initializing BertModel: ['cls.predictions.transform.dense.weight', 'cls.predictions.transform.dense.bias', 'cls.predictions.transform.LayerNorm.bias', 'cls.seq_relationship.weight', 'cls.predictions.transform.LayerNorm.weight', 'cls.predictions.decoder.weight', 'cls.predictions.bias', 'cls.seq_relationship.bias']\n",
      "- This IS expected if you are initializing BertModel from the checkpoint of a model trained on another task or with another architecture (e.g. initializing a BertForSequenceClassification model from a BertForPreTraining model).\n",
      "- This IS NOT expected if you are initializing BertModel from the checkpoint of a model that you expect to be exactly identical (initializing a BertForSequenceClassification model from a BertForSequenceClassification model).\n"
     ]
    }
   ],
   "source": [
    "device = find_device()\n",
    "model = load_bert('models/BERT.pth')\n",
    "model = model.to(device)"
   ]
  },
  {
   "cell_type": "markdown",
   "metadata": {},
   "source": [
    "Find Model Summary"
   ]
  },
  {
   "cell_type": "code",
   "execution_count": 43,
   "metadata": {},
   "outputs": [],
   "source": [
    "with open('plots/model_summary.txt', 'w') as file:\n",
    "    file.write(str(model))"
   ]
  },
  {
   "cell_type": "markdown",
   "metadata": {},
   "source": [
    "Test the model on various texts"
   ]
  },
  {
   "cell_type": "code",
   "execution_count": 3,
   "metadata": {},
   "outputs": [
    {
     "name": "stdout",
     "output_type": "stream",
     "text": [
      "The predicted sentiment of the text \"I hate you!\" is NEGATIVE with 90.42% confidence.\n"
     ]
    }
   ],
   "source": [
    "text = 'I hate you!'\n",
    "\n",
    "sentiment, confidence = predict_sentiment(text, model, device)\n",
    "\n",
    "print(f'The predicted sentiment of the text \"{text}\" is {sentiment} with {confidence*100:0.2f}% confidence.')"
   ]
  },
  {
   "cell_type": "code",
   "execution_count": 29,
   "metadata": {},
   "outputs": [
    {
     "name": "stdout",
     "output_type": "stream",
     "text": [
      "The predicted sentiment of the text \"I love you!\" is POSITIVE with 93.78% confidence.\n"
     ]
    }
   ],
   "source": [
    "text = 'I love you!'\n",
    "\n",
    "sentiment, confidence = predict_sentiment(text, model, device)\n",
    "\n",
    "print(f'The predicted sentiment of the text \"{text}\" is {sentiment} with {confidence*100:0.2f}% confidence.')"
   ]
  },
  {
   "cell_type": "code",
   "execution_count": 30,
   "metadata": {},
   "outputs": [
    {
     "name": "stdout",
     "output_type": "stream",
     "text": [
      "The predicted sentiment of the text \"I hope you have a really bad day!\" is NEGATIVE with 89.53% confidence.\n"
     ]
    }
   ],
   "source": [
    "text = 'I hope you have a really bad day!'\n",
    "\n",
    "sentiment, confidence = predict_sentiment(text, model, device)\n",
    "\n",
    "print(f'The predicted sentiment of the text \"{text}\" is {sentiment} with {confidence*100:0.2f}% confidence.')"
   ]
  },
  {
   "cell_type": "code",
   "execution_count": 31,
   "metadata": {},
   "outputs": [
    {
     "name": "stdout",
     "output_type": "stream",
     "text": [
      "The predicted sentiment of the text \"I hope you have a really good day!\" is POSITIVE with 89.52% confidence.\n"
     ]
    }
   ],
   "source": [
    "text = 'I hope you have a really good day!'\n",
    "\n",
    "sentiment, confidence = predict_sentiment(text, model, device)\n",
    "\n",
    "print(f'The predicted sentiment of the text \"{text}\" is {sentiment} with {confidence*100:0.2f}% confidence.')"
   ]
  },
  {
   "cell_type": "markdown",
   "metadata": {},
   "source": [
    "Test model on *entire dataset (Keep and display a running total of accuracy)"
   ]
  },
  {
   "cell_type": "code",
   "execution_count": null,
   "metadata": {},
   "outputs": [],
   "source": [
    "data = pd.read_csv('data/s140-prepared.csv')\n",
    "\n",
    "texts = data['text'].to_list()\n",
    "targets = data['target'].to_list()\n",
    "\n",
    "texts = [str(text) for text in texts]\n",
    "\n",
    "\n",
    "dataloader = create_bert_dataloader(texts, targets, 100)\n"
   ]
  },
  {
   "cell_type": "code",
   "execution_count": 68,
   "metadata": {},
   "outputs": [
    {
     "name": "stdout",
     "output_type": "stream",
     "text": [
      "### Creating Dataloader ###\n",
      "### Done - Running Tests ###\n",
      "Accuracy: 78.16 - (91/16000)\r"
     ]
    }
   ],
   "source": [
    "total_correct = 0\n",
    "total = 0\n",
    "\n",
    "model.eval()\n",
    "with torch.no_grad():\n",
    "    for batch_index, batch in enumerate(dataloader):\n",
    "        input_ids, type_ids, mask, y = batch\n",
    "\n",
    "        input_ids = input_ids.to(device)\n",
    "        type_ids = type_ids.to(device)\n",
    "        mask = mask.to(device)\n",
    "        y = y.to(device)\n",
    "\n",
    "        output = model(input_ids, mask, type_ids)\n",
    "\n",
    "        total_correct += sum((output > 0.5).float() == y)\n",
    "        total += len(y)\n",
    "\n",
    "        print(f'Accuracy: {total_correct/total*100:.2f}% - ({batch_index+1}/{len(dataloader)})', end='\\r')"
   ]
  },
  {
   "cell_type": "markdown",
   "metadata": {},
   "source": [
    "Recover Lost Test loss and accuracy"
   ]
  },
  {
   "cell_type": "code",
   "execution_count": 6,
   "metadata": {},
   "outputs": [
    {
     "name": "stdout",
     "output_type": "stream",
     "text": [
      "Train Size: 30000\tTest Size: 10000\tVal Size: 10000\n"
     ]
    }
   ],
   "source": [
    "import os\n",
    "import pandas as pd\n",
    "from sklearn.model_selection import train_test_split\n",
    "\n",
    "state = 42\n",
    "data_frac = 0.03125\n",
    "data_dir = 'data/'\n",
    "verbose = True\n",
    "batch_size = 15\n",
    "\n",
    "# Read and separate the data\n",
    "data = pd.read_csv(os.path.join(data_dir, 's140-prepared.csv'))\n",
    "\n",
    "# Split our data into negative and positive examples\n",
    "data_neg = data[data['target'] == 0]\n",
    "data_pos = data[data['target'] == 1]\n",
    "\n",
    "# Randomly shuffle and truncate each data frame\n",
    "data_neg = data_neg.sample(frac=data_frac, random_state=state)\n",
    "data_pos = data_pos.sample(frac=data_frac, random_state=state)\n",
    "\n",
    "\n",
    "# Combine the shuffled and truncated data frames\n",
    "data = pd.concat([data_neg, data_pos])\n",
    "\n",
    "#\n",
    "X = data['text'].to_list()\n",
    "y = data['target'].to_list()\n",
    "\n",
    "X = [str(x) for x in X]\n",
    "\n",
    "X_train, X_test, y_train, y_test = train_test_split(X, y, test_size=0.2, random_state=state)\n",
    "X_train, X_val, y_train, y_val = train_test_split(X_train, y_train, test_size=0.25, random_state=state)\n",
    "\n",
    "print(f'Train Size: {len(y_train)}\\tTest Size: {len(y_test)}\\tVal Size: {len(y_val)}')"
   ]
  },
  {
   "cell_type": "code",
   "execution_count": 6,
   "metadata": {},
   "outputs": [
    {
     "name": "stdout",
     "output_type": "stream",
     "text": [
      "### Testing ###\n",
      "Batch 320/320 [==================================================] - Loss: 0.4568 - Accuracy: 78.6458% - Remaining Time: 0:00\n",
      "Final Loss: 0.45682513979263606\n",
      "Final Accuracy: 0.7864583333333334\n",
      "Train Size: 15360\tTest Size: 4800\tVal Size: 3840\n"
     ]
    }
   ],
   "source": [
    "\n",
    "\n",
    "# Get the same test dataset to obtain the loss and accuracy that was lost after training\n",
    "\n",
    "\n",
    "\n",
    "\n",
    "\n",
    "\n",
    "\n",
    "# Create dataloaders for easy batching\n",
    "train_dataloader = create_bert_dataloader(X_train, y_train, batch_size)\n",
    "test_dataloader = create_bert_dataloader(X_test, y_test, batch_size, False)\n",
    "val_dataloader = create_bert_dataloader(X_val, y_val, batch_size, False)\n",
    "\n",
    "\n",
    "if verbose: print('### Testing ###')\n",
    "loss, accuracy = bert_benchmark(model, test_dataloader, device, verbose=verbose)\n",
    "\n",
    "print (f'Final Loss: {loss}')\n",
    "print (f'Final Accuracy: {accuracy}')\n",
    "\n",
    "\n"
   ]
  }
 ],
 "metadata": {
  "kernelspec": {
   "display_name": "Python 3",
   "language": "python",
   "name": "python3"
  },
  "language_info": {
   "codemirror_mode": {
    "name": "ipython",
    "version": 3
   },
   "file_extension": ".py",
   "mimetype": "text/x-python",
   "name": "python",
   "nbconvert_exporter": "python",
   "pygments_lexer": "ipython3",
   "version": "3.9.19"
  }
 },
 "nbformat": 4,
 "nbformat_minor": 2
}
